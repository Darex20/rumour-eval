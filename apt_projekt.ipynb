{
 "cells": [
  {
   "cell_type": "code",
   "execution_count": 1,
   "metadata": {
    "collapsed": true
   },
   "outputs": [],
   "source": [
    "import pandas as pd\n",
    "import numpy as np\n",
    "import os\n",
    "import json\n",
    "import spacy"
   ]
  },
  {
   "cell_type": "code",
   "execution_count": 4,
   "outputs": [],
   "source": [
    "def read_json_file(path):\n",
    "    f = open(path)\n",
    "    json_content = json.load(f)\n",
    "    f.close()\n",
    "    return json_content\n",
    "\n",
    "\n",
    "training_data_directory = 'data/rumoureval-2019-training-data/twitter-english'\n",
    "test_data_directory = 'data/rumoureval-2019-test-data/twitter-en-test-data'\n",
    "\n",
    "training_data_reddit_directory_dev = 'data/rumoureval-2019-training-data/reddit-dev-data'\n",
    "training_data_reddit_directory = 'data/rumoureval-2019-training-data/reddit-training-data'\n",
    "test_data_reddit_directory = 'data/rumoureval-2019-test-data/reddit-test-data'\n",
    "\n",
    "training_labels_json = 'data/rumoureval-2019-training-data/train-key.json'\n",
    "training_labels_json_2 = 'data/rumoureval-2019-training-data/dev-key.json'\n",
    "test_labels_json = 'data/final-eval-key.json'\n",
    "\n",
    "training_labels_dict = read_json_file(training_labels_json)['subtaskaenglish']\n",
    "training_labels_dict.update(read_json_file(training_labels_json_2)['subtaskaenglish'])\n",
    "test_labels_dict = read_json_file(test_labels_json)['subtaskaenglish']"
   ],
   "metadata": {
    "collapsed": false,
    "pycharm": {
     "name": "#%%\n"
    }
   }
  },
  {
   "cell_type": "code",
   "execution_count": 32,
   "outputs": [],
   "source": [
    "class Tweet:\n",
    "    def __init__(self, text,favorite_count, id, hastags,\n",
    "                 retweet_count, verified,  parent_id=None):\n",
    "        self.id = id\n",
    "        self.favorite_count = favorite_count\n",
    "        self.text= text\n",
    "        self.parent_id = parent_id\n",
    "        self.user_metadata = None\n",
    "        self.hastags=hastags\n",
    "        self.retweet_count=retweet_count\n",
    "        self.verified = verified,\n",
    "        self.direct_replies = []\n",
    "\n"
   ],
   "metadata": {
    "collapsed": false,
    "pycharm": {
     "name": "#%%\n"
    }
   }
  },
  {
   "cell_type": "code",
   "execution_count": 37,
   "outputs": [],
   "source": [
    "def read_tweets_dataset(dataset_dir_path):\n",
    "    topic_directories = [f.path for f in os.scandir(dataset_dir_path) if f.is_dir()]\n",
    "\n",
    "    tweets = []\n",
    "    for topic_dir in topic_directories:\n",
    "\n",
    "\n",
    "\n",
    "        tweets_paths = [f.path for f in os.scandir(topic_dir) if f.is_dir()]\n",
    "        for tweet_dir in tweets_paths:\n",
    "            source_tweet_path = [f.path for f in os.scandir(tweet_dir + '/source-tweet')][0]\n",
    "            source_tweet_json = read_json_file(source_tweet_path)\n",
    "            source_tweet_hastags = source_tweet_json['entities']['hashtags']\n",
    "            hashtags_text_array = [h['text'] for h in source_tweet_hastags]\n",
    "            tweet = Tweet(source_tweet_json['text'],id= source_tweet_json['id'],\n",
    "                          hastags=hashtags_text_array,\n",
    "                          verified=source_tweet_json['user']['verified'],\n",
    "                          retweet_count=source_tweet_json['retweet_count'],\n",
    "                          favorite_count=source_tweet_json['favorite_count'],\n",
    "                          )\n",
    "\n",
    "\n",
    "\n",
    "\n",
    "            reply_tweets = []\n",
    "            reply_tweets_paths = [f.path for f in os.scandir(tweet_dir + '/replies')]\n",
    "            for reply_tweet_path in reply_tweets_paths:\n",
    "                reply_tweet_json = read_json_file(reply_tweet_path)\n",
    "                reply_tweet_hastags = reply_tweet_json['entities']['hashtags']\n",
    "                hashtags_text_array = [h['text'] for h in reply_tweet_hastags]\n",
    "                reply_tweet = Tweet(reply_tweet_json['text'],\n",
    "                                    id=reply_tweet_json['id'],\n",
    "                                  hastags=hashtags_text_array,\n",
    "                                    parent_id=reply_tweet_json['in_reply_to_status_id'],\n",
    "                                  verified=reply_tweet_json['user']['verified'],\n",
    "                                  retweet_count=reply_tweet_json['retweet_count'],\n",
    "                                  favorite_count=reply_tweet_json['favorite_count'],\n",
    "                                    )\n",
    "                reply_tweets.append(reply_tweet)\n",
    "            tweets.append({'source':tweet, 'replies':reply_tweets})\n",
    "\n",
    "\n",
    "    return tweets"
   ],
   "metadata": {
    "collapsed": false,
    "pycharm": {
     "name": "#%%\n"
    }
   }
  },
  {
   "cell_type": "code",
   "execution_count": 38,
   "outputs": [
    {
     "name": "stdout",
     "output_type": "stream",
     "text": [
      "[<__main__.Tweet object at 0x00000274F19619C0>, <__main__.Tweet object at 0x00000274F19610C0>, <__main__.Tweet object at 0x00000274F1961180>]\n",
      "5\n"
     ]
    }
   ],
   "source": [
    "tweets = read_tweets_dataset(training_data_directory)\n",
    "for tweet in tweets:\n",
    "    source_id = tweet['source'].id\n",
    "    for dabila in tweet['replies']:\n",
    "        if dabila.parent_id == source_id:\n",
    "            tweet['source'].direct_replies.append(dabila)\n",
    "        for abudzaba in tweet['replies']:\n",
    "            if abudzaba.id == dabila.parent_id:\n",
    "                abudzaba.direct_replies.append(dabila)\n",
    "print(tweets[0]['source'].direct_replies)\n",
    "\n",
    "print(len(tweets[0]['replies']))"
   ],
   "metadata": {
    "collapsed": false,
    "pycharm": {
     "name": "#%%\n"
    }
   }
  },
  {
   "cell_type": "code",
   "execution_count": 48,
   "outputs": [
    {
     "name": "stdout",
     "output_type": "stream",
     "text": [
      "552785375161499649\n",
      "552785851655393281\n"
     ]
    },
    {
     "ename": "IndexError",
     "evalue": "list index out of range",
     "output_type": "error",
     "traceback": [
      "\u001B[1;31m---------------------------------------------------------------------------\u001B[0m",
      "\u001B[1;31mIndexError\u001B[0m                                Traceback (most recent call last)",
      "Cell \u001B[1;32mIn[48], line 3\u001B[0m\n\u001B[0;32m      1\u001B[0m \u001B[38;5;28mprint\u001B[39m(tweets[\u001B[38;5;241m1\u001B[39m][\u001B[38;5;124m'\u001B[39m\u001B[38;5;124msource\u001B[39m\u001B[38;5;124m'\u001B[39m]\u001B[38;5;241m.\u001B[39mid)\n\u001B[0;32m      2\u001B[0m \u001B[38;5;28mprint\u001B[39m(tweets[\u001B[38;5;241m1\u001B[39m][\u001B[38;5;124m'\u001B[39m\u001B[38;5;124msource\u001B[39m\u001B[38;5;124m'\u001B[39m]\u001B[38;5;241m.\u001B[39mdirect_replies[\u001B[38;5;241m0\u001B[39m]\u001B[38;5;241m.\u001B[39mid)\n\u001B[1;32m----> 3\u001B[0m \u001B[38;5;28mprint\u001B[39m(\u001B[43mtweets\u001B[49m\u001B[43m[\u001B[49m\u001B[38;5;241;43m1\u001B[39;49m\u001B[43m]\u001B[49m\u001B[43m[\u001B[49m\u001B[38;5;124;43m'\u001B[39;49m\u001B[38;5;124;43msource\u001B[39;49m\u001B[38;5;124;43m'\u001B[39;49m\u001B[43m]\u001B[49m\u001B[38;5;241;43m.\u001B[39;49m\u001B[43mdirect_replies\u001B[49m\u001B[43m[\u001B[49m\u001B[38;5;241;43m0\u001B[39;49m\u001B[43m]\u001B[49m\u001B[38;5;241;43m.\u001B[39;49m\u001B[43mdirect_replies\u001B[49m\u001B[43m[\u001B[49m\u001B[38;5;241;43m0\u001B[39;49m\u001B[43m]\u001B[49m\u001B[38;5;241m.\u001B[39mtext)\n",
      "\u001B[1;31mIndexError\u001B[0m: list index out of range"
     ]
    }
   ],
   "source": [
    "print(tweets[1]['source'].id)\n",
    "print(tweets[1]['source'].direct_replies[0].id)\n",
    "print(tweets[1]['source'].direct_replies[0].direct_replies[0].text)"
   ],
   "metadata": {
    "collapsed": false,
    "pycharm": {
     "name": "#%%\n"
    }
   }
  },
  {
   "cell_type": "code",
   "execution_count": null,
   "outputs": [],
   "source": [],
   "metadata": {
    "collapsed": false,
    "pycharm": {
     "name": "#%%\n"
    }
   }
  }
 ],
 "metadata": {
  "kernelspec": {
   "display_name": "Python 3",
   "language": "python",
   "name": "python3"
  },
  "language_info": {
   "codemirror_mode": {
    "name": "ipython",
    "version": 2
   },
   "file_extension": ".py",
   "mimetype": "text/x-python",
   "name": "python",
   "nbconvert_exporter": "python",
   "pygments_lexer": "ipython2",
   "version": "2.7.6"
  }
 },
 "nbformat": 4,
 "nbformat_minor": 0
}